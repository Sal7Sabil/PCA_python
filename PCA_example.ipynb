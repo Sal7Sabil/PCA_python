{
 "cells": [
  {
   "cell_type": "code",
   "execution_count": 1,
   "metadata": {},
   "outputs": [],
   "source": [
    "import pandas as pd"
   ]
  },
  {
   "cell_type": "code",
   "execution_count": 2,
   "metadata": {},
   "outputs": [],
   "source": [
    "df = pd.DataFrame(columns=['Calories', 'Breakfast', 'Lunch', 'Dinner','Build'])"
   ]
  },
  {
   "cell_type": "code",
   "execution_count": 3,
   "metadata": {},
   "outputs": [],
   "source": [
    "df.loc[0] = [1100, 1, 0, 0, 'Thin']\n",
    "df.loc[1] = [2900, 1, 1, 1, 'Normal']\n",
    "df.loc[2] = [3600, 2, 2, 1, 'Overweight']\n",
    "df.loc[3] = [1300, 0, 1, 0, 'Thin']\n",
    "df.loc[4] = [6000, 2, 2, 2, 'Overweight']\n",
    "df.loc[5] = [1200, 0, 0, 1, 'Thin']\n",
    "df.loc[6] = [3000, 1, 0, 1, 'Normal']\n",
    "df.loc[7] = [5000, 2, 2, 2, 'Overweight']\n",
    "df.loc[8] = [2700, 0, 2, 0, 'Normal']\n",
    "df.loc[9] = [4000, 1, 2, 1, 'Overweight']"
   ]
  },
  {
   "cell_type": "code",
   "execution_count": 4,
   "metadata": {},
   "outputs": [
    {
     "data": {
      "text/html": [
       "<div>\n",
       "<style scoped>\n",
       "    .dataframe tbody tr th:only-of-type {\n",
       "        vertical-align: middle;\n",
       "    }\n",
       "\n",
       "    .dataframe tbody tr th {\n",
       "        vertical-align: top;\n",
       "    }\n",
       "\n",
       "    .dataframe thead th {\n",
       "        text-align: right;\n",
       "    }\n",
       "</style>\n",
       "<table border=\"1\" class=\"dataframe\">\n",
       "  <thead>\n",
       "    <tr style=\"text-align: right;\">\n",
       "      <th></th>\n",
       "      <th>Calories</th>\n",
       "      <th>Breakfast</th>\n",
       "      <th>Lunch</th>\n",
       "      <th>Dinner</th>\n",
       "    </tr>\n",
       "  </thead>\n",
       "  <tbody>\n",
       "    <tr>\n",
       "      <th>0</th>\n",
       "      <td>1100</td>\n",
       "      <td>1</td>\n",
       "      <td>0</td>\n",
       "      <td>0</td>\n",
       "    </tr>\n",
       "    <tr>\n",
       "      <th>1</th>\n",
       "      <td>2900</td>\n",
       "      <td>1</td>\n",
       "      <td>1</td>\n",
       "      <td>1</td>\n",
       "    </tr>\n",
       "    <tr>\n",
       "      <th>2</th>\n",
       "      <td>3600</td>\n",
       "      <td>2</td>\n",
       "      <td>2</td>\n",
       "      <td>1</td>\n",
       "    </tr>\n",
       "    <tr>\n",
       "      <th>3</th>\n",
       "      <td>1300</td>\n",
       "      <td>0</td>\n",
       "      <td>1</td>\n",
       "      <td>0</td>\n",
       "    </tr>\n",
       "    <tr>\n",
       "      <th>4</th>\n",
       "      <td>6000</td>\n",
       "      <td>2</td>\n",
       "      <td>2</td>\n",
       "      <td>2</td>\n",
       "    </tr>\n",
       "    <tr>\n",
       "      <th>5</th>\n",
       "      <td>1200</td>\n",
       "      <td>0</td>\n",
       "      <td>0</td>\n",
       "      <td>1</td>\n",
       "    </tr>\n",
       "    <tr>\n",
       "      <th>6</th>\n",
       "      <td>3000</td>\n",
       "      <td>1</td>\n",
       "      <td>0</td>\n",
       "      <td>1</td>\n",
       "    </tr>\n",
       "    <tr>\n",
       "      <th>7</th>\n",
       "      <td>5000</td>\n",
       "      <td>2</td>\n",
       "      <td>2</td>\n",
       "      <td>2</td>\n",
       "    </tr>\n",
       "    <tr>\n",
       "      <th>8</th>\n",
       "      <td>2700</td>\n",
       "      <td>0</td>\n",
       "      <td>2</td>\n",
       "      <td>0</td>\n",
       "    </tr>\n",
       "    <tr>\n",
       "      <th>9</th>\n",
       "      <td>4000</td>\n",
       "      <td>1</td>\n",
       "      <td>2</td>\n",
       "      <td>1</td>\n",
       "    </tr>\n",
       "  </tbody>\n",
       "</table>\n",
       "</div>"
      ],
      "text/plain": [
       "  Calories Breakfast Lunch Dinner\n",
       "0     1100         1     0      0\n",
       "1     2900         1     1      1\n",
       "2     3600         2     2      1\n",
       "3     1300         0     1      0\n",
       "4     6000         2     2      2\n",
       "5     1200         0     0      1\n",
       "6     3000         1     0      1\n",
       "7     5000         2     2      2\n",
       "8     2700         0     2      0\n",
       "9     4000         1     2      1"
      ]
     },
     "execution_count": 4,
     "metadata": {},
     "output_type": "execute_result"
    }
   ],
   "source": [
    "X = df[['Calories', 'Breakfast', 'Lunch', 'Dinner']]\n",
    "X"
   ]
  },
  {
   "cell_type": "code",
   "execution_count": 5,
   "metadata": {},
   "outputs": [],
   "source": [
    "# Y is label to plot the values\n",
    "Y = df[['Build']]"
   ]
  },
  {
   "cell_type": "code",
   "execution_count": 6,
   "metadata": {},
   "outputs": [],
   "source": [
    "from sklearn.preprocessing import StandardScaler\n",
    "x_std = StandardScaler().fit_transform(X)"
   ]
  },
  {
   "cell_type": "code",
   "execution_count": 7,
   "metadata": {},
   "outputs": [
    {
     "data": {
      "text/plain": [
       "array([[-1.27447858,  0.        , -1.3764944 , -1.28571429],\n",
       "       [-0.11586169,  0.        , -0.22941573,  0.14285714],\n",
       "       [ 0.33471155,  1.29099445,  0.91766294,  0.14285714],\n",
       "       [-1.14574337, -1.29099445, -0.22941573, -1.28571429],\n",
       "       [ 1.87953407,  1.29099445,  0.91766294,  1.57142857],\n",
       "       [-1.21011098, -1.29099445, -1.3764944 ,  0.14285714],\n",
       "       [-0.05149408,  0.        , -1.3764944 ,  0.14285714],\n",
       "       [ 1.23585802,  1.29099445,  0.91766294,  1.57142857],\n",
       "       [-0.2445969 , -1.29099445,  0.91766294, -1.28571429],\n",
       "       [ 0.59218197,  0.        ,  0.91766294,  0.14285714]])"
      ]
     },
     "execution_count": 7,
     "metadata": {},
     "output_type": "execute_result"
    }
   ],
   "source": [
    "x_std "
   ]
  },
  {
   "cell_type": "code",
   "execution_count": 8,
   "metadata": {},
   "outputs": [],
   "source": [
    "import numpy as np\n",
    "import matplotlib.pyplot as plt"
   ]
  },
  {
   "cell_type": "code",
   "execution_count": 9,
   "metadata": {},
   "outputs": [
    {
     "name": "stdout",
     "output_type": "stream",
     "text": [
      "[[1.11111111 0.86791475 0.80725946 0.9174938 ]\n",
      " [0.86791475 1.11111111 0.49362406 0.81967902]\n",
      " [0.80725946 0.49362406 1.11111111 0.40056715]\n",
      " [0.9174938  0.81967902 0.40056715 1.11111111]]\n"
     ]
    }
   ],
   "source": [
    "features = x_std.T\n",
    "cov_mat = np.cov(features)\n",
    "print(cov_mat)"
   ]
  },
  {
   "cell_type": "code",
   "execution_count": 10,
   "metadata": {},
   "outputs": [],
   "source": [
    "eig_vals, eig_vecs = np.linalg.eig(cov_mat)"
   ]
  },
  {
   "cell_type": "code",
   "execution_count": 11,
   "metadata": {},
   "outputs": [
    {
     "name": "stdout",
     "output_type": "stream",
     "text": [
      "Eigenvalues \n",
      "[3.29813505 0.78262395 0.06478424 0.2989012 ]\n"
     ]
    }
   ],
   "source": [
    "print('Eigenvalues \\n%s' %eig_vals)"
   ]
  },
  {
   "cell_type": "code",
   "execution_count": 12,
   "metadata": {},
   "outputs": [
    {
     "name": "stdout",
     "output_type": "stream",
     "text": [
      "Eigenvectors \n",
      "[[ 0.56485621  0.08387495  0.7954525   0.2028738 ]\n",
      " [ 0.50617588 -0.31290077 -0.12392874 -0.79405337]\n",
      " [ 0.4148066   0.82618255 -0.38125477 -0.00163671]\n",
      " [ 0.50265189 -0.46095607 -0.45446869  0.57299109]]\n"
     ]
    }
   ],
   "source": [
    "print('Eigenvectors \\n%s' %eig_vecs)"
   ]
  },
  {
   "cell_type": "code",
   "execution_count": 13,
   "metadata": {},
   "outputs": [
    {
     "name": "stdout",
     "output_type": "stream",
     "text": [
      "Variance Explained:  [0.74208039 0.17609039 0.01457646 0.06725277]\n"
     ]
    }
   ],
   "source": [
    "eig_vals_total = np.sum(eig_vals)\n",
    "var_exp = eig_vals / eig_vals_total\n",
    "print('Variance Explained: ', var_exp)"
   ]
  },
  {
   "cell_type": "code",
   "execution_count": 14,
   "metadata": {},
   "outputs": [
    {
     "data": {
      "image/png": "[encoded data removed]",
      "text/plain": [
       "<Figure size 432x288 with 1 Axes>"
      ]
     },
     "metadata": {
      "needs_background": "light"
     },
     "output_type": "display_data"
    }
   ],
   "source": [
    "plt.bar(range(var_exp.shape[0]), var_exp, alpha = 0.5, \n",
    "        align = 'center', label = 'Individual explained variance')\n",
    "plt.ylabel('Explained variance ratio')\n",
    "plt.xlabel('Principal components')\n",
    "plt.ylim(0, 1.1)\n",
    "plt.grid(b=True, which='major', color='#999999', linestyle='-')\n",
    "plt.legend(loc = 'best')\n",
    "plt.tight_layout()"
   ]
  },
  {
   "cell_type": "markdown",
   "metadata": {},
   "source": [
    "From the above we can deduce that most of the variance (74.2% of the variance) can be explained by the first principal component alone.\n",
    "The second principal component still bears some information (17.6%) while the third and fourth principal components can be safely dropped without losing to much information.\n",
    "\n",
    "The first  principal components explains 74.2% of the variance. In other words, it contain 74.2% of the information."
   ]
  },
  {
   "cell_type": "code",
   "execution_count": 15,
   "metadata": {},
   "outputs": [],
   "source": [
    "projected_X = x_std.dot(eig_vecs.T[0])"
   ]
  },
  {
   "cell_type": "code",
   "execution_count": 16,
   "metadata": {},
   "outputs": [
    {
     "data": {
      "text/plain": [
       "array([-1.93714282, -0.08880094,  1.2949942 , -2.04208039,  2.88567093,\n",
       "       -1.8361805 , -0.5282583 ,  2.52208652, -1.05724641,  0.78695772])"
      ]
     },
     "execution_count": 16,
     "metadata": {},
     "output_type": "execute_result"
    }
   ],
   "source": [
    "projected_X"
   ]
  },
  {
   "cell_type": "code",
   "execution_count": 17,
   "metadata": {},
   "outputs": [],
   "source": [
    "result = pd.DataFrame(projected_X, columns=['PC1'])\n",
    "result['y-axis'] = 0.0 \n",
    "result['category'] = Y"
   ]
  },
  {
   "cell_type": "code",
   "execution_count": 18,
   "metadata": {},
   "outputs": [
    {
     "data": {
      "text/html": [
       "<div>\n",
       "<style scoped>\n",
       "    .dataframe tbody tr th:only-of-type {\n",
       "        vertical-align: middle;\n",
       "    }\n",
       "\n",
       "    .dataframe tbody tr th {\n",
       "        vertical-align: top;\n",
       "    }\n",
       "\n",
       "    .dataframe thead th {\n",
       "        text-align: right;\n",
       "    }\n",
       "</style>\n",
       "<table border=\"1\" class=\"dataframe\">\n",
       "  <thead>\n",
       "    <tr style=\"text-align: right;\">\n",
       "      <th></th>\n",
       "      <th>PC1</th>\n",
       "      <th>y-axis</th>\n",
       "      <th>category</th>\n",
       "    </tr>\n",
       "  </thead>\n",
       "  <tbody>\n",
       "    <tr>\n",
       "      <th>0</th>\n",
       "      <td>-1.937143</td>\n",
       "      <td>0.0</td>\n",
       "      <td>Thin</td>\n",
       "    </tr>\n",
       "    <tr>\n",
       "      <th>1</th>\n",
       "      <td>-0.088801</td>\n",
       "      <td>0.0</td>\n",
       "      <td>Normal</td>\n",
       "    </tr>\n",
       "    <tr>\n",
       "      <th>2</th>\n",
       "      <td>1.294994</td>\n",
       "      <td>0.0</td>\n",
       "      <td>Overweight</td>\n",
       "    </tr>\n",
       "    <tr>\n",
       "      <th>3</th>\n",
       "      <td>-2.042080</td>\n",
       "      <td>0.0</td>\n",
       "      <td>Thin</td>\n",
       "    </tr>\n",
       "    <tr>\n",
       "      <th>4</th>\n",
       "      <td>2.885671</td>\n",
       "      <td>0.0</td>\n",
       "      <td>Overweight</td>\n",
       "    </tr>\n",
       "    <tr>\n",
       "      <th>5</th>\n",
       "      <td>-1.836181</td>\n",
       "      <td>0.0</td>\n",
       "      <td>Thin</td>\n",
       "    </tr>\n",
       "    <tr>\n",
       "      <th>6</th>\n",
       "      <td>-0.528258</td>\n",
       "      <td>0.0</td>\n",
       "      <td>Normal</td>\n",
       "    </tr>\n",
       "    <tr>\n",
       "      <th>7</th>\n",
       "      <td>2.522087</td>\n",
       "      <td>0.0</td>\n",
       "      <td>Overweight</td>\n",
       "    </tr>\n",
       "    <tr>\n",
       "      <th>8</th>\n",
       "      <td>-1.057246</td>\n",
       "      <td>0.0</td>\n",
       "      <td>Normal</td>\n",
       "    </tr>\n",
       "    <tr>\n",
       "      <th>9</th>\n",
       "      <td>0.786958</td>\n",
       "      <td>0.0</td>\n",
       "      <td>Overweight</td>\n",
       "    </tr>\n",
       "  </tbody>\n",
       "</table>\n",
       "</div>"
      ],
      "text/plain": [
       "        PC1  y-axis    category\n",
       "0 -1.937143     0.0        Thin\n",
       "1 -0.088801     0.0      Normal\n",
       "2  1.294994     0.0  Overweight\n",
       "3 -2.042080     0.0        Thin\n",
       "4  2.885671     0.0  Overweight\n",
       "5 -1.836181     0.0        Thin\n",
       "6 -0.528258     0.0      Normal\n",
       "7  2.522087     0.0  Overweight\n",
       "8 -1.057246     0.0      Normal\n",
       "9  0.786958     0.0  Overweight"
      ]
     },
     "execution_count": 18,
     "metadata": {},
     "output_type": "execute_result"
    }
   ],
   "source": [
    " result.head(10)"
   ]
  },
  {
   "cell_type": "markdown",
   "metadata": {},
   "source": [
    "As seen from above we have reduced from 4 dimensions to 1 dimension."
   ]
  },
  {
   "cell_type": "code",
   "execution_count": 19,
   "metadata": {},
   "outputs": [],
   "source": [
    "import matplotlib.pyplot as plt\n",
    "import seaborn as sns\n",
    "%matplotlib inline"
   ]
  },
  {
   "cell_type": "code",
   "execution_count": 20,
   "metadata": {},
   "outputs": [
    {
     "data": {
      "text/plain": [
       "Text(0.5, 1, 'Results of PCA')"
      ]
     },
     "execution_count": 20,
     "metadata": {},
     "output_type": "execute_result"
    },
    {
     "data": {
      "image/png": "[encoded data removed]",
      "text/plain": [
       "<Figure size 453.625x360 with 1 Axes>"
      ]
     },
     "metadata": {
      "needs_background": "light"
     },
     "output_type": "display_data"
    }
   ],
   "source": [
    "sns.lmplot('PC1', 'y-axis', data=result, fit_reg=False,  \n",
    "           scatter_kws={\"s\": 900},\n",
    "           hue=\"category\",\n",
    "           markers = '.',\n",
    "           palette=\"husl\") \n",
    "plt.title('Results of PCA')"
   ]
  },
  {
   "cell_type": "markdown",
   "metadata": {},
   "source": [
    "# Using scikit-learn"
   ]
  },
  {
   "cell_type": "code",
   "execution_count": 21,
   "metadata": {},
   "outputs": [],
   "source": [
    "from sklearn import decomposition\n",
    "PCA = decomposition.PCA(n_components=1)\n",
    "PCA_x = PCA.fit_transform(x_std)"
   ]
  },
  {
   "cell_type": "code",
   "execution_count": 22,
   "metadata": {},
   "outputs": [
    {
     "data": {
      "text/plain": [
       "Text(0.5, 1, 'Results of sklearn_PCA')"
      ]
     },
     "execution_count": 22,
     "metadata": {},
     "output_type": "execute_result"
    },
    {
     "data": {
      "image/png": "[encoded data removed]",
      "text/plain": [
       "<Figure size 453.625x360 with 1 Axes>"
      ]
     },
     "metadata": {
      "needs_background": "light"
     },
     "output_type": "display_data"
    }
   ],
   "source": [
    "sklearn_result=pd.DataFrame(PCA_x, columns=['PC1'])\n",
    "sklearn_result['y-axis']= 0.0\n",
    "sklearn_result['label'] = Y\n",
    "sns.lmplot('PC1', 'y-axis', data=sklearn_result, fit_reg=False, \n",
    "           scatter_kws={\"s\": 900}, \n",
    "           hue=\"label\",\n",
    "           markers = '.',\n",
    "           palette=\"husl\") \n",
    "plt.title('Results of sklearn_PCA')"
   ]
  },
  {
   "cell_type": "markdown",
   "metadata": {},
   "source": [
    "We can see here that by implementing the PCA algorithm ourselves and using the API, the same results are obtained."
   ]
  }
 ],
 "metadata": {
  "kernelspec": {
   "display_name": "Python 3",
   "language": "python",
   "name": "python3"
  },
  "language_info": {
   "codemirror_mode": {
    "name": "ipython",
    "version": 3
   },
   "file_extension": ".py",
   "mimetype": "text/x-python",
   "name": "python",
   "nbconvert_exporter": "python",
   "pygments_lexer": "ipython3",
   "version": "3.7.6"
  }
 },
 "nbformat": 4,
 "nbformat_minor": 4
}
